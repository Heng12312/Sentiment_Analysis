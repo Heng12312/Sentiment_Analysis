{
 "cells": [
  {
   "cell_type": "markdown",
   "metadata": {},
   "source": [
    "<h4> Import Library"
   ]
  },
  {
   "cell_type": "code",
   "execution_count": 1,
   "metadata": {},
   "outputs": [],
   "source": [
    "import pandas as pd\n",
    "import numpy as np\n",
    "\n",
    "from gensim.models import Word2Vec\n",
    "from sklearn.metrics import accuracy_score\n",
    "from sklearn.tree import DecisionTreeClassifier\n",
    "from sklearn.linear_model import LogisticRegression\n",
    "from sklearn.ensemble import RandomForestClassifier\n",
    "from sklearn.metrics import accuracy_score,classification_report"
   ]
  },
  {
   "cell_type": "markdown",
   "metadata": {},
   "source": [
    "<h4> Load and Prepare Train and Test Datasets from Pre-Split Dataset"
   ]
  },
  {
   "cell_type": "code",
   "execution_count": 2,
   "metadata": {},
   "outputs": [],
   "source": [
    "X_train = pd.read_csv('../data/(E) X_train.csv')\n",
    "X_test = pd.read_csv('../data/(F) X_test.csv')\n",
    "y_train = pd.read_csv('../data/(G) y_train.csv')\n",
    "y_test = pd.read_csv('../data/(H) y_test.csv')"
   ]
  },
  {
   "cell_type": "code",
   "execution_count": 3,
   "metadata": {},
   "outputs": [],
   "source": [
    "y_train = y_train.ensemble_sentiment\n",
    "y_test = y_test.ensemble_sentiment"
   ]
  },
  {
   "cell_type": "markdown",
   "metadata": {},
   "source": [
    "<h4> Train the Word2Vec Model"
   ]
  },
  {
   "cell_type": "code",
   "execution_count": 4,
   "metadata": {},
   "outputs": [],
   "source": [
    "w2v_model = Word2Vec(sentences=X_train['tweet'], vector_size=100, window=5, min_count=1, workers=4)\n",
    "word_vectors = w2v_model.wv\n"
   ]
  },
  {
   "cell_type": "markdown",
   "metadata": {},
   "source": [
    "<h4> Define Function to Calculate Average Word2Vec"
   ]
  },
  {
   "cell_type": "code",
   "execution_count": 5,
   "metadata": {},
   "outputs": [],
   "source": [
    "def get_avg_word2vec(text, model, num_features):\n",
    "    \"\"\" Calculate the average word2vec for each document \"\"\"\n",
    "    feature_vec = np.zeros((num_features,), dtype='float32')\n",
    "    n_words = 0\n",
    "    for word in text:\n",
    "        if word in model.wv.index_to_key:\n",
    "            n_words += 1\n",
    "            feature_vec = np.add(feature_vec, model.wv[word])\n",
    "    if n_words > 0:\n",
    "        feature_vec = np.divide(feature_vec, n_words)\n",
    "    return feature_vec\n"
   ]
  },
  {
   "cell_type": "markdown",
   "metadata": {},
   "source": [
    "<h4> Get Feature Vectors for Train and Test Data"
   ]
  },
  {
   "cell_type": "code",
   "execution_count": 6,
   "metadata": {},
   "outputs": [],
   "source": [
    "X_train_vecs = np.array([get_avg_word2vec(doc, w2v_model, 100) for doc in X_train['tweet']])\n",
    "X_test_vecs = np.array([get_avg_word2vec(doc, w2v_model, 100) for doc in X_test['tweet']])"
   ]
  },
  {
   "cell_type": "code",
   "execution_count": 7,
   "metadata": {},
   "outputs": [],
   "source": [
    "X_train_vecs = np.array([get_avg_word2vec(doc, w2v_model, 100) for doc in X_train['tweet']])\n",
    "X_test_vecs = np.array([get_avg_word2vec(doc, w2v_model, 100) for doc in X_test['tweet']])"
   ]
  },
  {
   "cell_type": "markdown",
   "metadata": {},
   "source": [
    "<h4> Decision Tree"
   ]
  },
  {
   "cell_type": "code",
   "execution_count": 8,
   "metadata": {},
   "outputs": [
    {
     "name": "stdout",
     "output_type": "stream",
     "text": [
      "Classification Report:\n",
      "               precision    recall  f1-score   support\n",
      "\n",
      "    negative       0.66      0.64      0.65      1709\n",
      "     neutral       0.33      0.35      0.34       704\n",
      "    positive       0.27      0.28      0.27       504\n",
      "\n",
      "    accuracy                           0.50      2917\n",
      "   macro avg       0.42      0.42      0.42      2917\n",
      "weighted avg       0.51      0.50      0.51      2917\n",
      "\n"
     ]
    }
   ],
   "source": [
    "clf = DecisionTreeClassifier(random_state=0)\n",
    "clf.fit(X_train_vecs, y_train)\n",
    "y_pred = clf.predict(X_test_vecs)\n",
    "accuracy = accuracy_score(y_test, y_pred)\n",
    "print(\"Classification Report:\\n\", classification_report(y_test, y_pred))\n"
   ]
  },
  {
   "cell_type": "markdown",
   "metadata": {},
   "source": [
    "<h4> Logistic Regression"
   ]
  },
  {
   "cell_type": "code",
   "execution_count": 9,
   "metadata": {},
   "outputs": [
    {
     "name": "stdout",
     "output_type": "stream",
     "text": [
      "Classification Report:\n",
      "               precision    recall  f1-score   support\n",
      "\n",
      "    negative       0.64      0.96      0.77      1709\n",
      "     neutral       0.50      0.17      0.26       704\n",
      "    positive       0.67      0.15      0.24       504\n",
      "\n",
      "    accuracy                           0.63      2917\n",
      "   macro avg       0.60      0.43      0.42      2917\n",
      "weighted avg       0.61      0.63      0.55      2917\n",
      "\n"
     ]
    },
    {
     "name": "stderr",
     "output_type": "stream",
     "text": [
      "c:\\Users\\kenniex\\AppData\\Local\\Programs\\Python\\Python311\\Lib\\site-packages\\sklearn\\linear_model\\_logistic.py:460: ConvergenceWarning: lbfgs failed to converge (status=1):\n",
      "STOP: TOTAL NO. of ITERATIONS REACHED LIMIT.\n",
      "\n",
      "Increase the number of iterations (max_iter) or scale the data as shown in:\n",
      "    https://scikit-learn.org/stable/modules/preprocessing.html\n",
      "Please also refer to the documentation for alternative solver options:\n",
      "    https://scikit-learn.org/stable/modules/linear_model.html#logistic-regression\n",
      "  n_iter_i = _check_optimize_result(\n"
     ]
    }
   ],
   "source": [
    "lr_classifier = LogisticRegression( random_state=0)\n",
    "lr_classifier.fit(X_train_vecs, y_train)\n",
    "y_pred = lr_classifier.predict(X_test_vecs)\n",
    "print(\"Classification Report:\\n\", classification_report(y_test, y_pred))\n"
   ]
  },
  {
   "cell_type": "markdown",
   "metadata": {},
   "source": [
    "<h4> Random Forest"
   ]
  },
  {
   "cell_type": "code",
   "execution_count": 10,
   "metadata": {},
   "outputs": [
    {
     "name": "stdout",
     "output_type": "stream",
     "text": [
      "Classification Report:\n",
      "               precision    recall  f1-score   support\n",
      "\n",
      "    negative       0.67      0.91      0.77      1709\n",
      "     neutral       0.52      0.30      0.38       704\n",
      "    positive       0.57      0.20      0.30       504\n",
      "\n",
      "    accuracy                           0.64      2917\n",
      "   macro avg       0.58      0.47      0.48      2917\n",
      "weighted avg       0.61      0.64      0.60      2917\n",
      "\n"
     ]
    }
   ],
   "source": [
    "rf_classifier = RandomForestClassifier( random_state=0)\n",
    "rf_classifier.fit(X_train_vecs, y_train)\n",
    "y_pred = rf_classifier.predict(X_test_vecs)\n",
    "print(\"Classification Report:\\n\", classification_report(y_test, y_pred))"
   ]
  }
 ],
 "metadata": {
  "kernelspec": {
   "display_name": "Python 3",
   "language": "python",
   "name": "python3"
  },
  "language_info": {
   "codemirror_mode": {
    "name": "ipython",
    "version": 3
   },
   "file_extension": ".py",
   "mimetype": "text/x-python",
   "name": "python",
   "nbconvert_exporter": "python",
   "pygments_lexer": "ipython3",
   "version": "3.11.1"
  }
 },
 "nbformat": 4,
 "nbformat_minor": 2
}
